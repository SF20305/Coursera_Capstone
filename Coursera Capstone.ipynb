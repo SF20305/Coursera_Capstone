{
    "cells": [
        {
            "metadata": {
                "collapsed": true
            },
            "cell_type": "markdown",
            "source": "# This notebook will be used for the Coursera Capstone Course project."
        },
        {
            "metadata": {},
            "cell_type": "code",
            "source": "import pandas as pd\nimport numpy as np\n\nprint (\"Hello Capstone Project Course!\")",
            "execution_count": 1,
            "outputs": [
                {
                    "output_type": "stream",
                    "text": "Hello Capstone Project Course!\n",
                    "name": "stdout"
                }
            ]
        },
        {
            "metadata": {},
            "cell_type": "markdown",
            "source": "# Introduction/Business Problem\n\n#### Police and first responders are looking for a model to help predict the severity of car accidents in order to better utilize their resources and more efficiently and effectively deploy personnel to each accident reported. In order to do so, they have hired a data scientist to analyze data compiled in Seattle City to see if there is a way to predict based on weather and road conditions in order to help better deploy resources, warn the public for high severity days, and ultimately save lives.\n\n#### The question they have asked is: can you predict based on weather and road conditions the likely severity of a car accident?\n\n"
        },
        {
            "metadata": {},
            "cell_type": "markdown",
            "source": "# Data\n\n#### The dataset used for this anaylsis is from the Seattle City Police Department and includes all of the collusions, as recorded by Traffic Records, from 2004 to present.\n\n#### It includes 37 attributes and is labeled by severity of the accidents, describing the fatality of each accident. It includes: a severity, code 0 (unknown) to 3 (fatal), as well as the type of collision, # of people/objects involved, date/time of the accident, junction/lane type where the accident occured, road conditions, influence of the driver (attention, under the influence, speeding), and weather.\n\n#### As weather and road conditions will help the police to send out public warnings or announcements to help caution drivers on days where more severe accidents are likely, the initial focus will be on these attributes.\n\n#### To help further deploy appropriate resoureces, secondary considerations will be on the day/time of accident, junction type/crosswalk involvement, and the number of people/objects involved. If this information can be gathered from the initial accident report within a reasonable amount of time, it could further help the police to deploy appropriate types and amount of assistance to the scene of the accident. "
        },
        {
            "metadata": {},
            "cell_type": "code",
            "source": "import types\nimport pandas as pd\nfrom botocore.client import Config\nimport ibm_boto3\n\ndef __iter__(self): return 0\n\n# @hidden_cell\n# The following code accesses a file in your IBM Cloud Object Storage. It includes your credentials.\n# You might want to remove those credentials before you share the notebook.\nclient_25a75b0fe6734a97b285b33b88264068 = ibm_boto3.client(service_name='s3',\n    ibm_api_key_id='vUtWzKGYLQzFnOe6aTyrHJ4_db7aEKZh2dUJTQPzjb2P',\n    ibm_auth_endpoint=\"https://iam.cloud.ibm.com/oidc/token\",\n    config=Config(signature_version='oauth'),\n    endpoint_url='https://s3.eu-geo.objectstorage.service.networklayer.com')\n\nbody = client_25a75b0fe6734a97b285b33b88264068.get_object(Bucket='courseracapstone-donotdelete-pr-awppagh6tidzrr',Key='Collisions.csv')['Body']\n# add missing __iter__ method, so pandas accepts body as file-like object\nif not hasattr(body, \"__iter__\"): body.__iter__ = types.MethodType( __iter__, body )\n\nSeattle_Data = pd.read_csv(body)\n# print(Seattle_Data.info)\nprint(Seattle_Data.head())",
            "execution_count": 3,
            "outputs": [
                {
                    "output_type": "stream",
                    "text": "            X          Y  OBJECTID  INCKEY  COLDETKEY REPORTNO   STATUS  \\\n0 -122.356511  47.517361         1  327920     329420  3856094  Matched   \n1 -122.361405  47.702064         2   46200      46200  1791736  Matched   \n2 -122.317414  47.664028         3    1212       1212  3507861  Matched   \n3 -122.318234  47.619927         4  327909     329409  EA03026  Matched   \n4 -122.351724  47.560306         5  104900     104900  2671936  Matched   \n\n       ADDRTYPE   INTKEY                                           LOCATION  \\\n0  Intersection  34911.0                      17TH AVE SW AND SW ROXBURY ST   \n1         Block      NaN     HOLMAN RD NW BETWEEN 4TH AVE NW AND 3RD AVE NW   \n2         Block      NaN  ROOSEVELT WAY NE BETWEEN NE 47TH ST AND NE 50T...   \n3  Intersection  29054.0                           11TH AVE E AND E JOHN ST   \n4         Block      NaN  WEST MARGINAL WAY SW BETWEEN SW ALASKA ST AND ...   \n\n   ... ROADCOND                LIGHTCOND PEDROWNOTGRNT SDOTCOLNUM SPEEDING  \\\n0  ...      Dry                 Daylight           NaN        NaN      NaN   \n1  ...      Wet                     Dusk           NaN  5101020.0      NaN   \n2  ...      Dry  Dark - Street Lights On           NaN        NaN      NaN   \n3  ...      Wet  Dark - Street Lights On           NaN        NaN      NaN   \n4  ...      Ice  Dark - Street Lights On           NaN  9359012.0        Y   \n\n   ST_COLCODE                                         ST_COLDESC  SEGLANEKEY  \\\n0          10                                  Entering at angle           0   \n1          13  From same direction - both going straight - bo...           0   \n2          30               From opposite direction - all others           0   \n3           0             Vehicle going straight hits pedestrian           0   \n4          50                                       Fixed object           0   \n\n   CROSSWALKKEY  HITPARKEDCAR  \n0             0             N  \n1             0             N  \n2             0             N  \n3             0             N  \n4             0             N  \n\n[5 rows x 40 columns]\n",
                    "name": "stdout"
                }
            ]
        },
        {
            "metadata": {},
            "cell_type": "code",
            "source": "import numpy as np\n\n#drop rows of data with 'weather', 'road condition', or 'severity code' blank\nSeattle_Data.dropna(subset=[\"WEATHER\"], axis=0, inplace=True)\nSeattle_Data.dropna(subset=[\"ROADCOND\"], axis=0, inplace=True)\nSeattle_Data.dropna(subset=[\"SEVERITYCODE\"], axis=0, inplace=True)\n\n#Set index to ObjectID\nSeattle_Data.set_index('OBJECTID')\n\n#Create new dataframe with only the columns required for analysis\nSD = Seattle_Data[['OBJECTID', 'WEATHER', 'SEVERITYCODE', 'ROADCOND']]\n\nSD.head()\nSD.info",
            "execution_count": 32,
            "outputs": [
                {
                    "output_type": "execute_result",
                    "execution_count": 32,
                    "data": {
                        "text/plain": "<bound method DataFrame.info of         OBJECTID   WEATHER SEVERITYCODE ROADCOND\n0              1     Clear            1      Dry\n1              2   Raining            1      Wet\n2              3     Clear            2      Dry\n3              4   Raining            2      Wet\n4              5     Clear            2      Ice\n5              6     Clear            1      Dry\n6              7  Overcast            1      Dry\n7              8     Clear            1      Dry\n8              9     Clear           2b      Dry\n9             10     Clear            1      Wet\n11            12     Clear            1      Dry\n12            13     Clear            2      Dry\n13            14     Clear            2      Dry\n14            15   Unknown            1  Unknown\n15            16     Clear            2      Dry\n16            17     Clear            1      Dry\n17            18   Unknown            1  Unknown\n19            20  Overcast            1      Dry\n20            21   Raining            1      Wet\n22            23     Clear            2      Dry\n23            24   Unknown            1  Unknown\n24            25  Overcast            2      Wet\n25            26     Clear            2      Dry\n26            27  Overcast            1      Dry\n27            28     Clear            1      Dry\n28            29  Overcast            2      Dry\n29            30     Clear            1      Dry\n30            31   Unknown            1  Unknown\n31            32     Clear           2b      Dry\n32            33     Clear            2      Dry\n...          ...       ...          ...      ...\n221704    221705     Clear            1      Dry\n221705    221706  Overcast            1  Unknown\n221707    221708     Clear            1      Dry\n221709    221710  Overcast            1      Dry\n221710    221711     Clear            1      Wet\n221711    221712  Overcast            2      Dry\n221712    221713     Clear            1      Dry\n221713    221714     Clear            1      Dry\n221714    221715     Clear            1      Dry\n221715    221716     Clear            2  Unknown\n221717    221718   Raining            1      Wet\n221718    221719     Clear            2      Dry\n221719    221720     Clear            2      Dry\n221720    221721     Clear           2b      Dry\n221721    221722   Raining            2      Wet\n221722    221723     Clear            2      Dry\n221723    221724     Clear            1      Dry\n221724    221725     Clear            1      Dry\n221725    221726     Clear            1      Dry\n221726    221727     Clear            1      Dry\n221727    221728     Clear            1      Wet\n221728    221729     Clear            1      Dry\n221729    221730     Clear            2      Dry\n221730    221731     Clear            1      Dry\n221731    221732     Clear            1      Dry\n221732    221733     Clear            2      Dry\n221734    221735     Clear            1      Dry\n221735    221736     Clear            2      Dry\n221736    221737     Clear            2      Dry\n221737    221738   Raining            2      Wet\n\n[195046 rows x 4 columns]>"
                    },
                    "metadata": {}
                }
            ]
        },
        {
            "metadata": {},
            "cell_type": "code",
            "source": "#no longer needed\n#Seattle_Data[\"SEVERITYCODE\"] = Seattle_Data[\"SEVERITYCODE\"].astype(\"object\")\n#Seattle_Data[\"OBJECTID\"] = Seattle_Data[\"OBJECTID\"].astype(\"object\")\n#Seattle_Data[\"INCKEY\"] = Seattle_Data[\"INCKEY\"].astype(\"object\")\n#Seattle_Data[\"COLDETKEY\"] = Seattle_Data[\"COLDETKEY\"].astype(\"object\")\n#Seattle_Data[\"INTKEY\"] = Seattle_Data[\"INTKEY\"].astype(\"object\")\n#Seattle_Data[\"SEGLANEKEY\"] = Seattle_Data[\"SEGLANEKEY\"].astype(\"object\")\n#Seattle_Data[\"CROSSWALKKEY\"] = Seattle_Data[\"CROSSWALKKEY\"].astype(\"object\")",
            "execution_count": 4,
            "outputs": []
        },
        {
            "metadata": {},
            "cell_type": "code",
            "source": "SD.WEATHER.unique()",
            "execution_count": 27,
            "outputs": [
                {
                    "output_type": "execute_result",
                    "execution_count": 27,
                    "data": {
                        "text/plain": "array(['Clear', 'Raining', 'Overcast', 'Unknown', 'Other', 'Snowing',\n       'Sleet/Hail/Freezing Rain', 'Fog/Smog/Smoke', 'Blowing Sand/Dirt',\n       'Severe Crosswind', 'Partly Cloudy'], dtype=object)"
                    },
                    "metadata": {}
                }
            ]
        },
        {
            "metadata": {},
            "cell_type": "code",
            "source": "SD.drop(SD.index[SD['WEATHER'] == 'Unknown'], inplace = True)\nSD.drop(SD.index[SD['WEATHER'] == 'Other'], inplace = True)\n\n\nSD.WEATHER.unique()",
            "execution_count": 39,
            "outputs": [
                {
                    "output_type": "execute_result",
                    "execution_count": 39,
                    "data": {
                        "text/plain": "array(['Clear', 'Raining', 'Overcast', 'Snowing',\n       'Sleet/Hail/Freezing Rain', 'Fog/Smog/Smoke', 'Blowing Sand/Dirt',\n       'Severe Crosswind', 'Partly Cloudy'], dtype=object)"
                    },
                    "metadata": {}
                }
            ]
        },
        {
            "metadata": {},
            "cell_type": "code",
            "source": "SD.drop(SD.index[SD['ROADCOND'] == 'Unknown'], inplace = True)\nSD.drop(SD.index[SD['ROADCOND'] == 'Other'], inplace = True)\n\n\nSD.ROADCOND.unique()",
            "execution_count": 40,
            "outputs": [
                {
                    "output_type": "execute_result",
                    "execution_count": 40,
                    "data": {
                        "text/plain": "array(['Dry', 'Wet', 'Ice', 'Snow/Slush', 'Standing Water',\n       'Sand/Mud/Dirt', 'Oil'], dtype=object)"
                    },
                    "metadata": {}
                }
            ]
        },
        {
            "metadata": {},
            "cell_type": "code",
            "source": "#Assign number values to the Weather and Road Condition columns according to severity of condition\n#weather_map = {'Clear': 0, 'Partly Cloudy': 1, 'Overcast': 2, 'Raining': 3, 'Fog/Smog/Smoke': 4, 'Blowing Sand/Dirt': 5, 'Sleet/Hail/Freezing Rain': 6, 'Snowing': 7, 'Severe Crosswind': 8}\n#road_map = {'Dry': 0, 'Wet': 1, 'Sand/Mud/Dirt': 2, 'Standing Water': 3, 'Snow/Slush': 4, 'Oil': 5, 'Ice': 6}\n\n#SD.replace({'WEATHER': weather_map, 'ROADCOND': road_map})",
            "execution_count": 54,
            "outputs": [
                {
                    "output_type": "execute_result",
                    "execution_count": 54,
                    "data": {
                        "text/plain": "        OBJECTID  WEATHER SEVERITYCODE  ROADCOND\n0              1        0            1         0\n1              2        3            1         1\n2              3        0            2         0\n3              4        3            2         1\n4              5        0            2         6\n5              6        0            1         0\n6              7        2            1         0\n7              8        0            1         0\n8              9        0           2b         0\n9             10        0            1         1\n11            12        0            1         0\n12            13        0            2         0\n13            14        0            2         0\n15            16        0            2         0\n16            17        0            1         0\n19            20        2            1         0\n20            21        3            1         1\n22            23        0            2         0\n24            25        2            2         1\n25            26        0            2         0\n26            27        2            1         0\n27            28        0            1         0\n28            29        2            2         0\n29            30        0            1         0\n31            32        0           2b         0\n32            33        0            2         0\n33            34        0            1         1\n34            35        0            1         0\n35            36        2            1         1\n36            37        2            1         0\n...          ...      ...          ...       ...\n221702    221703        0            2         0\n221703    221704        0            1         0\n221704    221705        0            1         0\n221707    221708        0            1         0\n221709    221710        2            1         0\n221710    221711        0            1         1\n221711    221712        2            2         0\n221712    221713        0            1         0\n221713    221714        0            1         0\n221714    221715        0            1         0\n221717    221718        3            1         1\n221718    221719        0            2         0\n221719    221720        0            2         0\n221720    221721        0           2b         0\n221721    221722        3            2         1\n221722    221723        0            2         0\n221723    221724        0            1         0\n221724    221725        0            1         0\n221725    221726        0            1         0\n221726    221727        0            1         0\n221727    221728        0            1         1\n221728    221729        0            1         0\n221729    221730        0            2         0\n221730    221731        0            1         0\n221731    221732        0            1         0\n221732    221733        0            2         0\n221734    221735        0            1         0\n221735    221736        0            2         0\n221736    221737        0            2         0\n221737    221738        3            2         1\n\n[178020 rows x 4 columns]",
                        "text/html": "<div>\n<style scoped>\n    .dataframe tbody tr th:only-of-type {\n        vertical-align: middle;\n    }\n\n    .dataframe tbody tr th {\n        vertical-align: top;\n    }\n\n    .dataframe thead th {\n        text-align: right;\n    }\n</style>\n<table border=\"1\" class=\"dataframe\">\n  <thead>\n    <tr style=\"text-align: right;\">\n      <th></th>\n      <th>OBJECTID</th>\n      <th>WEATHER</th>\n      <th>SEVERITYCODE</th>\n      <th>ROADCOND</th>\n    </tr>\n  </thead>\n  <tbody>\n    <tr>\n      <th>0</th>\n      <td>1</td>\n      <td>0</td>\n      <td>1</td>\n      <td>0</td>\n    </tr>\n    <tr>\n      <th>1</th>\n      <td>2</td>\n      <td>3</td>\n      <td>1</td>\n      <td>1</td>\n    </tr>\n    <tr>\n      <th>2</th>\n      <td>3</td>\n      <td>0</td>\n      <td>2</td>\n      <td>0</td>\n    </tr>\n    <tr>\n      <th>3</th>\n      <td>4</td>\n      <td>3</td>\n      <td>2</td>\n      <td>1</td>\n    </tr>\n    <tr>\n      <th>4</th>\n      <td>5</td>\n      <td>0</td>\n      <td>2</td>\n      <td>6</td>\n    </tr>\n    <tr>\n      <th>5</th>\n      <td>6</td>\n      <td>0</td>\n      <td>1</td>\n      <td>0</td>\n    </tr>\n    <tr>\n      <th>6</th>\n      <td>7</td>\n      <td>2</td>\n      <td>1</td>\n      <td>0</td>\n    </tr>\n    <tr>\n      <th>7</th>\n      <td>8</td>\n      <td>0</td>\n      <td>1</td>\n      <td>0</td>\n    </tr>\n    <tr>\n      <th>8</th>\n      <td>9</td>\n      <td>0</td>\n      <td>2b</td>\n      <td>0</td>\n    </tr>\n    <tr>\n      <th>9</th>\n      <td>10</td>\n      <td>0</td>\n      <td>1</td>\n      <td>1</td>\n    </tr>\n    <tr>\n      <th>11</th>\n      <td>12</td>\n      <td>0</td>\n      <td>1</td>\n      <td>0</td>\n    </tr>\n    <tr>\n      <th>12</th>\n      <td>13</td>\n      <td>0</td>\n      <td>2</td>\n      <td>0</td>\n    </tr>\n    <tr>\n      <th>13</th>\n      <td>14</td>\n      <td>0</td>\n      <td>2</td>\n      <td>0</td>\n    </tr>\n    <tr>\n      <th>15</th>\n      <td>16</td>\n      <td>0</td>\n      <td>2</td>\n      <td>0</td>\n    </tr>\n    <tr>\n      <th>16</th>\n      <td>17</td>\n      <td>0</td>\n      <td>1</td>\n      <td>0</td>\n    </tr>\n    <tr>\n      <th>19</th>\n      <td>20</td>\n      <td>2</td>\n      <td>1</td>\n      <td>0</td>\n    </tr>\n    <tr>\n      <th>20</th>\n      <td>21</td>\n      <td>3</td>\n      <td>1</td>\n      <td>1</td>\n    </tr>\n    <tr>\n      <th>22</th>\n      <td>23</td>\n      <td>0</td>\n      <td>2</td>\n      <td>0</td>\n    </tr>\n    <tr>\n      <th>24</th>\n      <td>25</td>\n      <td>2</td>\n      <td>2</td>\n      <td>1</td>\n    </tr>\n    <tr>\n      <th>25</th>\n      <td>26</td>\n      <td>0</td>\n      <td>2</td>\n      <td>0</td>\n    </tr>\n    <tr>\n      <th>26</th>\n      <td>27</td>\n      <td>2</td>\n      <td>1</td>\n      <td>0</td>\n    </tr>\n    <tr>\n      <th>27</th>\n      <td>28</td>\n      <td>0</td>\n      <td>1</td>\n      <td>0</td>\n    </tr>\n    <tr>\n      <th>28</th>\n      <td>29</td>\n      <td>2</td>\n      <td>2</td>\n      <td>0</td>\n    </tr>\n    <tr>\n      <th>29</th>\n      <td>30</td>\n      <td>0</td>\n      <td>1</td>\n      <td>0</td>\n    </tr>\n    <tr>\n      <th>31</th>\n      <td>32</td>\n      <td>0</td>\n      <td>2b</td>\n      <td>0</td>\n    </tr>\n    <tr>\n      <th>32</th>\n      <td>33</td>\n      <td>0</td>\n      <td>2</td>\n      <td>0</td>\n    </tr>\n    <tr>\n      <th>33</th>\n      <td>34</td>\n      <td>0</td>\n      <td>1</td>\n      <td>1</td>\n    </tr>\n    <tr>\n      <th>34</th>\n      <td>35</td>\n      <td>0</td>\n      <td>1</td>\n      <td>0</td>\n    </tr>\n    <tr>\n      <th>35</th>\n      <td>36</td>\n      <td>2</td>\n      <td>1</td>\n      <td>1</td>\n    </tr>\n    <tr>\n      <th>36</th>\n      <td>37</td>\n      <td>2</td>\n      <td>1</td>\n      <td>0</td>\n    </tr>\n    <tr>\n      <th>...</th>\n      <td>...</td>\n      <td>...</td>\n      <td>...</td>\n      <td>...</td>\n    </tr>\n    <tr>\n      <th>221702</th>\n      <td>221703</td>\n      <td>0</td>\n      <td>2</td>\n      <td>0</td>\n    </tr>\n    <tr>\n      <th>221703</th>\n      <td>221704</td>\n      <td>0</td>\n      <td>1</td>\n      <td>0</td>\n    </tr>\n    <tr>\n      <th>221704</th>\n      <td>221705</td>\n      <td>0</td>\n      <td>1</td>\n      <td>0</td>\n    </tr>\n    <tr>\n      <th>221707</th>\n      <td>221708</td>\n      <td>0</td>\n      <td>1</td>\n      <td>0</td>\n    </tr>\n    <tr>\n      <th>221709</th>\n      <td>221710</td>\n      <td>2</td>\n      <td>1</td>\n      <td>0</td>\n    </tr>\n    <tr>\n      <th>221710</th>\n      <td>221711</td>\n      <td>0</td>\n      <td>1</td>\n      <td>1</td>\n    </tr>\n    <tr>\n      <th>221711</th>\n      <td>221712</td>\n      <td>2</td>\n      <td>2</td>\n      <td>0</td>\n    </tr>\n    <tr>\n      <th>221712</th>\n      <td>221713</td>\n      <td>0</td>\n      <td>1</td>\n      <td>0</td>\n    </tr>\n    <tr>\n      <th>221713</th>\n      <td>221714</td>\n      <td>0</td>\n      <td>1</td>\n      <td>0</td>\n    </tr>\n    <tr>\n      <th>221714</th>\n      <td>221715</td>\n      <td>0</td>\n      <td>1</td>\n      <td>0</td>\n    </tr>\n    <tr>\n      <th>221717</th>\n      <td>221718</td>\n      <td>3</td>\n      <td>1</td>\n      <td>1</td>\n    </tr>\n    <tr>\n      <th>221718</th>\n      <td>221719</td>\n      <td>0</td>\n      <td>2</td>\n      <td>0</td>\n    </tr>\n    <tr>\n      <th>221719</th>\n      <td>221720</td>\n      <td>0</td>\n      <td>2</td>\n      <td>0</td>\n    </tr>\n    <tr>\n      <th>221720</th>\n      <td>221721</td>\n      <td>0</td>\n      <td>2b</td>\n      <td>0</td>\n    </tr>\n    <tr>\n      <th>221721</th>\n      <td>221722</td>\n      <td>3</td>\n      <td>2</td>\n      <td>1</td>\n    </tr>\n    <tr>\n      <th>221722</th>\n      <td>221723</td>\n      <td>0</td>\n      <td>2</td>\n      <td>0</td>\n    </tr>\n    <tr>\n      <th>221723</th>\n      <td>221724</td>\n      <td>0</td>\n      <td>1</td>\n      <td>0</td>\n    </tr>\n    <tr>\n      <th>221724</th>\n      <td>221725</td>\n      <td>0</td>\n      <td>1</td>\n      <td>0</td>\n    </tr>\n    <tr>\n      <th>221725</th>\n      <td>221726</td>\n      <td>0</td>\n      <td>1</td>\n      <td>0</td>\n    </tr>\n    <tr>\n      <th>221726</th>\n      <td>221727</td>\n      <td>0</td>\n      <td>1</td>\n      <td>0</td>\n    </tr>\n    <tr>\n      <th>221727</th>\n      <td>221728</td>\n      <td>0</td>\n      <td>1</td>\n      <td>1</td>\n    </tr>\n    <tr>\n      <th>221728</th>\n      <td>221729</td>\n      <td>0</td>\n      <td>1</td>\n      <td>0</td>\n    </tr>\n    <tr>\n      <th>221729</th>\n      <td>221730</td>\n      <td>0</td>\n      <td>2</td>\n      <td>0</td>\n    </tr>\n    <tr>\n      <th>221730</th>\n      <td>221731</td>\n      <td>0</td>\n      <td>1</td>\n      <td>0</td>\n    </tr>\n    <tr>\n      <th>221731</th>\n      <td>221732</td>\n      <td>0</td>\n      <td>1</td>\n      <td>0</td>\n    </tr>\n    <tr>\n      <th>221732</th>\n      <td>221733</td>\n      <td>0</td>\n      <td>2</td>\n      <td>0</td>\n    </tr>\n    <tr>\n      <th>221734</th>\n      <td>221735</td>\n      <td>0</td>\n      <td>1</td>\n      <td>0</td>\n    </tr>\n    <tr>\n      <th>221735</th>\n      <td>221736</td>\n      <td>0</td>\n      <td>2</td>\n      <td>0</td>\n    </tr>\n    <tr>\n      <th>221736</th>\n      <td>221737</td>\n      <td>0</td>\n      <td>2</td>\n      <td>0</td>\n    </tr>\n    <tr>\n      <th>221737</th>\n      <td>221738</td>\n      <td>3</td>\n      <td>2</td>\n      <td>1</td>\n    </tr>\n  </tbody>\n</table>\n<p>178020 rows \u00d7 4 columns</p>\n</div>"
                    },
                    "metadata": {}
                }
            ]
        },
        {
            "metadata": {},
            "cell_type": "code",
            "source": "SD.head()\n\n#Change column data types\n#SD[\"SEVERITYCODE\"] = SD['SEVERITYCODE'].astype(int)\n#SD[\"ROADCOND\"] = SD[\"ROADCOND\"].astype(int)\n#SD[\"WEATHER\"] = SD[\"WEATHER\"].astype(int)\n\n",
            "execution_count": 55,
            "outputs": [
                {
                    "output_type": "execute_result",
                    "execution_count": 55,
                    "data": {
                        "text/plain": "   OBJECTID  WEATHER SEVERITYCODE ROADCOND\n0         1    Clear            1      Dry\n1         2  Raining            1      Wet\n2         3    Clear            2      Dry\n3         4  Raining            2      Wet\n4         5    Clear            2      Ice",
                        "text/html": "<div>\n<style scoped>\n    .dataframe tbody tr th:only-of-type {\n        vertical-align: middle;\n    }\n\n    .dataframe tbody tr th {\n        vertical-align: top;\n    }\n\n    .dataframe thead th {\n        text-align: right;\n    }\n</style>\n<table border=\"1\" class=\"dataframe\">\n  <thead>\n    <tr style=\"text-align: right;\">\n      <th></th>\n      <th>OBJECTID</th>\n      <th>WEATHER</th>\n      <th>SEVERITYCODE</th>\n      <th>ROADCOND</th>\n    </tr>\n  </thead>\n  <tbody>\n    <tr>\n      <th>0</th>\n      <td>1</td>\n      <td>Clear</td>\n      <td>1</td>\n      <td>Dry</td>\n    </tr>\n    <tr>\n      <th>1</th>\n      <td>2</td>\n      <td>Raining</td>\n      <td>1</td>\n      <td>Wet</td>\n    </tr>\n    <tr>\n      <th>2</th>\n      <td>3</td>\n      <td>Clear</td>\n      <td>2</td>\n      <td>Dry</td>\n    </tr>\n    <tr>\n      <th>3</th>\n      <td>4</td>\n      <td>Raining</td>\n      <td>2</td>\n      <td>Wet</td>\n    </tr>\n    <tr>\n      <th>4</th>\n      <td>5</td>\n      <td>Clear</td>\n      <td>2</td>\n      <td>Ice</td>\n    </tr>\n  </tbody>\n</table>\n</div>"
                    },
                    "metadata": {}
                }
            ]
        },
        {
            "metadata": {},
            "cell_type": "code",
            "source": "import matplotlib.pyplot as plt\nimport seaborn as sns\nfrom scipy import stats\n\npearson_coef, p_value = stats.pearsonr(SD['WEATHER'], SD['SEVERITYCODE'])\nprint(\"The Pearson Correlation Coefficient is\", pearson_coef, \" with a P-value of P =\", p_value)  ",
            "execution_count": 45,
            "outputs": [
                {
                    "output_type": "error",
                    "ename": "TypeError",
                    "evalue": "unsupported operand type(s) for /: 'str' and 'int'",
                    "traceback": [
                        "\u001b[0;31m---------------------------------------------------------------------------\u001b[0m",
                        "\u001b[0;31mTypeError\u001b[0m                                 Traceback (most recent call last)",
                        "\u001b[0;32m<ipython-input-45-16ddd520c17e>\u001b[0m in \u001b[0;36m<module>\u001b[0;34m\u001b[0m\n\u001b[1;32m      3\u001b[0m \u001b[0;32mfrom\u001b[0m \u001b[0mscipy\u001b[0m \u001b[0;32mimport\u001b[0m \u001b[0mstats\u001b[0m\u001b[0;34m\u001b[0m\u001b[0;34m\u001b[0m\u001b[0m\n\u001b[1;32m      4\u001b[0m \u001b[0;34m\u001b[0m\u001b[0m\n\u001b[0;32m----> 5\u001b[0;31m \u001b[0mpearson_coef\u001b[0m\u001b[0;34m,\u001b[0m \u001b[0mp_value\u001b[0m \u001b[0;34m=\u001b[0m \u001b[0mstats\u001b[0m\u001b[0;34m.\u001b[0m\u001b[0mpearsonr\u001b[0m\u001b[0;34m(\u001b[0m\u001b[0mSD\u001b[0m\u001b[0;34m[\u001b[0m\u001b[0;34m'WEATHER'\u001b[0m\u001b[0;34m]\u001b[0m\u001b[0;34m,\u001b[0m \u001b[0mSD\u001b[0m\u001b[0;34m[\u001b[0m\u001b[0;34m'SEVERITYCODE'\u001b[0m\u001b[0;34m]\u001b[0m\u001b[0;34m)\u001b[0m\u001b[0;34m\u001b[0m\u001b[0;34m\u001b[0m\u001b[0m\n\u001b[0m\u001b[1;32m      6\u001b[0m \u001b[0mprint\u001b[0m\u001b[0;34m(\u001b[0m\u001b[0;34m\"The Pearson Correlation Coefficient is\"\u001b[0m\u001b[0;34m,\u001b[0m \u001b[0mpearson_coef\u001b[0m\u001b[0;34m,\u001b[0m \u001b[0;34m\" with a P-value of P =\"\u001b[0m\u001b[0;34m,\u001b[0m \u001b[0mp_value\u001b[0m\u001b[0;34m)\u001b[0m\u001b[0;34m\u001b[0m\u001b[0;34m\u001b[0m\u001b[0m\n",
                        "\u001b[0;32m/opt/conda/envs/Python36/lib/python3.6/site-packages/scipy/stats/stats.py\u001b[0m in \u001b[0;36mpearsonr\u001b[0;34m(x, y)\u001b[0m\n\u001b[1;32m   3031\u001b[0m     \u001b[0my\u001b[0m \u001b[0;34m=\u001b[0m \u001b[0mnp\u001b[0m\u001b[0;34m.\u001b[0m\u001b[0masarray\u001b[0m\u001b[0;34m(\u001b[0m\u001b[0my\u001b[0m\u001b[0;34m)\u001b[0m\u001b[0;34m\u001b[0m\u001b[0;34m\u001b[0m\u001b[0m\n\u001b[1;32m   3032\u001b[0m     \u001b[0mn\u001b[0m \u001b[0;34m=\u001b[0m \u001b[0mlen\u001b[0m\u001b[0;34m(\u001b[0m\u001b[0mx\u001b[0m\u001b[0;34m)\u001b[0m\u001b[0;34m\u001b[0m\u001b[0;34m\u001b[0m\u001b[0m\n\u001b[0;32m-> 3033\u001b[0;31m     \u001b[0mmx\u001b[0m \u001b[0;34m=\u001b[0m \u001b[0mx\u001b[0m\u001b[0;34m.\u001b[0m\u001b[0mmean\u001b[0m\u001b[0;34m(\u001b[0m\u001b[0;34m)\u001b[0m\u001b[0;34m\u001b[0m\u001b[0;34m\u001b[0m\u001b[0m\n\u001b[0m\u001b[1;32m   3034\u001b[0m     \u001b[0mmy\u001b[0m \u001b[0;34m=\u001b[0m \u001b[0my\u001b[0m\u001b[0;34m.\u001b[0m\u001b[0mmean\u001b[0m\u001b[0;34m(\u001b[0m\u001b[0;34m)\u001b[0m\u001b[0;34m\u001b[0m\u001b[0;34m\u001b[0m\u001b[0m\n\u001b[1;32m   3035\u001b[0m     \u001b[0mxm\u001b[0m\u001b[0;34m,\u001b[0m \u001b[0mym\u001b[0m \u001b[0;34m=\u001b[0m \u001b[0mx\u001b[0m \u001b[0;34m-\u001b[0m \u001b[0mmx\u001b[0m\u001b[0;34m,\u001b[0m \u001b[0my\u001b[0m \u001b[0;34m-\u001b[0m \u001b[0mmy\u001b[0m\u001b[0;34m\u001b[0m\u001b[0;34m\u001b[0m\u001b[0m\n",
                        "\u001b[0;32m/opt/conda/envs/Python36/lib/python3.6/site-packages/numpy/core/_methods.py\u001b[0m in \u001b[0;36m_mean\u001b[0;34m(a, axis, dtype, out, keepdims)\u001b[0m\n\u001b[1;32m     85\u001b[0m             \u001b[0mret\u001b[0m \u001b[0;34m=\u001b[0m \u001b[0mret\u001b[0m\u001b[0;34m.\u001b[0m\u001b[0mdtype\u001b[0m\u001b[0;34m.\u001b[0m\u001b[0mtype\u001b[0m\u001b[0;34m(\u001b[0m\u001b[0mret\u001b[0m \u001b[0;34m/\u001b[0m \u001b[0mrcount\u001b[0m\u001b[0;34m)\u001b[0m\u001b[0;34m\u001b[0m\u001b[0;34m\u001b[0m\u001b[0m\n\u001b[1;32m     86\u001b[0m     \u001b[0;32melse\u001b[0m\u001b[0;34m:\u001b[0m\u001b[0;34m\u001b[0m\u001b[0;34m\u001b[0m\u001b[0m\n\u001b[0;32m---> 87\u001b[0;31m         \u001b[0mret\u001b[0m \u001b[0;34m=\u001b[0m \u001b[0mret\u001b[0m \u001b[0;34m/\u001b[0m \u001b[0mrcount\u001b[0m\u001b[0;34m\u001b[0m\u001b[0;34m\u001b[0m\u001b[0m\n\u001b[0m\u001b[1;32m     88\u001b[0m \u001b[0;34m\u001b[0m\u001b[0m\n\u001b[1;32m     89\u001b[0m     \u001b[0;32mreturn\u001b[0m \u001b[0mret\u001b[0m\u001b[0;34m\u001b[0m\u001b[0;34m\u001b[0m\u001b[0m\n",
                        "\u001b[0;31mTypeError\u001b[0m: unsupported operand type(s) for /: 'str' and 'int'"
                    ]
                }
            ]
        },
        {
            "metadata": {},
            "cell_type": "code",
            "source": "",
            "execution_count": null,
            "outputs": []
        }
    ],
    "metadata": {
        "kernelspec": {
            "name": "python3",
            "display_name": "Python 3.6",
            "language": "python"
        },
        "language_info": {
            "name": "python",
            "version": "3.6.9",
            "mimetype": "text/x-python",
            "codemirror_mode": {
                "name": "ipython",
                "version": 3
            },
            "pygments_lexer": "ipython3",
            "nbconvert_exporter": "python",
            "file_extension": ".py"
        }
    },
    "nbformat": 4,
    "nbformat_minor": 1
}