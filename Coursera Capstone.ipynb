{
    "cells": [
        {
            "metadata": {
                "collapsed": true
            },
            "cell_type": "markdown",
            "source": "# This notebook will be used for the Coursera Capstone Course project."
        },
        {
            "metadata": {},
            "cell_type": "code",
            "source": "import pandas as pd\nimport numpy as np\n\nprint (\"Hello Capstone Project Course!\")",
            "execution_count": 1,
            "outputs": [
                {
                    "output_type": "stream",
                    "text": "Hello Capstone Project Course!\n",
                    "name": "stdout"
                }
            ]
        },
        {
            "metadata": {},
            "cell_type": "markdown",
            "source": "# Introduction/Business Problem\n\nPolice and first responders are looking for a model to help predict the severity of car accidents in order to better utilize their resources and more efficiently and effectively deploy personnel to each accident reported. In order to do so, they have hired a data scientist to analyze data compiled in Seattle City to see if there is a way to predict based on weather and road conditions in order to help better deploy resources, warn the public for high severity days, and ultimately save lives.\n\n#### The question they have asked is: can you predict based on weather and road conditions the likely severity of a car accident?\n\n\n"
        },
        {
            "metadata": {},
            "cell_type": "markdown",
            "source": "\n# Data\n\nThe dataset used for this anaylsis is from the Seattle City Police Department and includes all of the collusions, as recorded by Traffic Records, from 2004 to present.\n\nIt includes 37 attributes and is labeled by severity of the accidents, describing the fatality of each accident. It includes: a severity, code 0 (unknown) to 3 (fatal), as well as the type of collision, # of people/objects involved, date/time of the accident, junction/lane type where the accident occured, road conditions, influence of the driver (attention, under the influence, speeding), and weather.\n\nAs weather and road conditions will help the police to send out public warnings or announcements to help caution drivers on days where more severe accidents are likely, the initial focus will be on these attributes.\n\nTo help further deploy appropriate resoureces, secondary considerations will be on the day/time of accident, junction type/crosswalk involvement, and the number of people/objects involved. If this information can be gathered from the initial accident report within a reasonable amount of time, it could further help the police to deploy appropriate types and amount of assistance to the scene of the accident. "
        },
        {
            "metadata": {},
            "cell_type": "markdown",
            "source": "# Methodology\n\nIn beginning this project, we will first start be guided by the initial investigation request from the Police Department, to predict the severity of accidents based on weather and road conditions. We will determine the effects of these specific independent variables on the dependent variable, accident severity.\n\nUpon reviewing the dataset and determining the makeup of the samples, we may need over-sampling or under-sampling methods to balance the dataset in order to avoid skewed model results. We will adjust the dataset accordingly using various data balancing techniques depending on the composition of the data identified.\n\nWe will review regressions to predict severity of collisions as well to determine if this can help our anaylsis and final modeling. We will also perform anaylsis using the visualization libraries of matplotlib and seaborn. We will use K Nearest Neighbor analysis to cluster coordinates as well as a decision tree to determine which model creates a more accurate predictor of the accident severity.\n \nFinally, we will evaluate the accuracy and precision of the model with classification metrics and complete our results analysis portion of the report. We will also discuss further anaylsis that could be undertaken with this data if the Police Department would like to investigate additional aspects for deployment of resources to accidents beyond just notification of public for precautionary measures."
        },
        {
            "metadata": {},
            "cell_type": "code",
            "source": "import types\nimport pandas as pd\nfrom botocore.client import Config\nimport ibm_boto3\n\ndef __iter__(self): return 0\n\n# @hidden_cell\n# The following code accesses a file in your IBM Cloud Object Storage. It includes your credentials.\n# You might want to remove those credentials before you share the notebook.\nclient_25a75b0fe6734a97b285b33b88264068 = ibm_boto3.client(service_name='s3',\n    ibm_api_key_id='vUtWzKGYLQzFnOe6aTyrHJ4_db7aEKZh2dUJTQPzjb2P',\n    ibm_auth_endpoint=\"https://iam.cloud.ibm.com/oidc/token\",\n    config=Config(signature_version='oauth'),\n    endpoint_url='https://s3.eu-geo.objectstorage.service.networklayer.com')\n\nbody = client_25a75b0fe6734a97b285b33b88264068.get_object(Bucket='courseracapstone-donotdelete-pr-awppagh6tidzrr',Key='Collisions.csv')['Body']\n# add missing __iter__ method, so pandas accepts body as file-like object\nif not hasattr(body, \"__iter__\"): body.__iter__ = types.MethodType( __iter__, body )\n\nSeattle_Data = pd.read_csv(body)\n# print(Seattle_Data.info)\nprint(Seattle_Data.head())",
            "execution_count": 1,
            "outputs": [
                {
                    "output_type": "stream",
                    "text": "            X          Y  OBJECTID  INCKEY  COLDETKEY REPORTNO   STATUS  \\\n0 -122.356511  47.517361         1  327920     329420  3856094  Matched   \n1 -122.361405  47.702064         2   46200      46200  1791736  Matched   \n2 -122.317414  47.664028         3    1212       1212  3507861  Matched   \n3 -122.318234  47.619927         4  327909     329409  EA03026  Matched   \n4 -122.351724  47.560306         5  104900     104900  2671936  Matched   \n\n       ADDRTYPE   INTKEY                                           LOCATION  \\\n0  Intersection  34911.0                      17TH AVE SW AND SW ROXBURY ST   \n1         Block      NaN     HOLMAN RD NW BETWEEN 4TH AVE NW AND 3RD AVE NW   \n2         Block      NaN  ROOSEVELT WAY NE BETWEEN NE 47TH ST AND NE 50T...   \n3  Intersection  29054.0                           11TH AVE E AND E JOHN ST   \n4         Block      NaN  WEST MARGINAL WAY SW BETWEEN SW ALASKA ST AND ...   \n\n   ... ROADCOND                LIGHTCOND PEDROWNOTGRNT SDOTCOLNUM SPEEDING  \\\n0  ...      Dry                 Daylight           NaN        NaN      NaN   \n1  ...      Wet                     Dusk           NaN  5101020.0      NaN   \n2  ...      Dry  Dark - Street Lights On           NaN        NaN      NaN   \n3  ...      Wet  Dark - Street Lights On           NaN        NaN      NaN   \n4  ...      Ice  Dark - Street Lights On           NaN  9359012.0        Y   \n\n   ST_COLCODE                                         ST_COLDESC  SEGLANEKEY  \\\n0          10                                  Entering at angle           0   \n1          13  From same direction - both going straight - bo...           0   \n2          30               From opposite direction - all others           0   \n3           0             Vehicle going straight hits pedestrian           0   \n4          50                                       Fixed object           0   \n\n   CROSSWALKKEY  HITPARKEDCAR  \n0             0             N  \n1             0             N  \n2             0             N  \n3             0             N  \n4             0             N  \n\n[5 rows x 40 columns]\n",
                    "name": "stdout"
                }
            ]
        },
        {
            "metadata": {
                "scrolled": true
            },
            "cell_type": "code",
            "source": "import numpy as np\n\n#drop rows of data with 'weather', 'road condition', or 'severity code' blank\nSeattle_Data.dropna(subset=[\"WEATHER\"], axis=0, inplace=True)\nSeattle_Data.dropna(subset=[\"ROADCOND\"], axis=0, inplace=True)\nSeattle_Data.dropna(subset=[\"SEVERITYCODE\"], axis=0, inplace=True)\n\n#Set index to ObjectID\nSeattle_Data.set_index('OBJECTID')\n\n#Create new dataframe with only the columns required for analysis\nSD = Seattle_Data[['OBJECTID', 'WEATHER', 'SEVERITYCODE', 'ROADCOND']]\n\nSD.head()\nSD.info",
            "execution_count": 2,
            "outputs": [
                {
                    "output_type": "execute_result",
                    "execution_count": 2,
                    "data": {
                        "text/plain": "<bound method DataFrame.info of         OBJECTID   WEATHER SEVERITYCODE ROADCOND\n0              1     Clear            1      Dry\n1              2   Raining            1      Wet\n2              3     Clear            2      Dry\n3              4   Raining            2      Wet\n4              5     Clear            2      Ice\n5              6     Clear            1      Dry\n6              7  Overcast            1      Dry\n7              8     Clear            1      Dry\n8              9     Clear           2b      Dry\n9             10     Clear            1      Wet\n11            12     Clear            1      Dry\n12            13     Clear            2      Dry\n13            14     Clear            2      Dry\n14            15   Unknown            1  Unknown\n15            16     Clear            2      Dry\n16            17     Clear            1      Dry\n17            18   Unknown            1  Unknown\n19            20  Overcast            1      Dry\n20            21   Raining            1      Wet\n22            23     Clear            2      Dry\n23            24   Unknown            1  Unknown\n24            25  Overcast            2      Wet\n25            26     Clear            2      Dry\n26            27  Overcast            1      Dry\n27            28     Clear            1      Dry\n28            29  Overcast            2      Dry\n29            30     Clear            1      Dry\n30            31   Unknown            1  Unknown\n31            32     Clear           2b      Dry\n32            33     Clear            2      Dry\n...          ...       ...          ...      ...\n221704    221705     Clear            1      Dry\n221705    221706  Overcast            1  Unknown\n221707    221708     Clear            1      Dry\n221709    221710  Overcast            1      Dry\n221710    221711     Clear            1      Wet\n221711    221712  Overcast            2      Dry\n221712    221713     Clear            1      Dry\n221713    221714     Clear            1      Dry\n221714    221715     Clear            1      Dry\n221715    221716     Clear            2  Unknown\n221717    221718   Raining            1      Wet\n221718    221719     Clear            2      Dry\n221719    221720     Clear            2      Dry\n221720    221721     Clear           2b      Dry\n221721    221722   Raining            2      Wet\n221722    221723     Clear            2      Dry\n221723    221724     Clear            1      Dry\n221724    221725     Clear            1      Dry\n221725    221726     Clear            1      Dry\n221726    221727     Clear            1      Dry\n221727    221728     Clear            1      Wet\n221728    221729     Clear            1      Dry\n221729    221730     Clear            2      Dry\n221730    221731     Clear            1      Dry\n221731    221732     Clear            1      Dry\n221732    221733     Clear            2      Dry\n221734    221735     Clear            1      Dry\n221735    221736     Clear            2      Dry\n221736    221737     Clear            2      Dry\n221737    221738   Raining            2      Wet\n\n[195046 rows x 4 columns]>"
                    },
                    "metadata": {}
                }
            ]
        },
        {
            "metadata": {},
            "cell_type": "markdown",
            "source": "After the initial import of the full dataset, a secondary dataset was created containing only the fields required for the initial analysis requested by the Police Department: independent variables of weather and road condition, dependent variable of accident severity code, as well as the object ID for line item identification."
        },
        {
            "metadata": {},
            "cell_type": "markdown",
            "source": "#### Data preparation\n\nBelow are the initial data preparation procedures performed in order to remove line items with blank or inconclusive data (unknown fields, 'other' fields, etc.)."
        },
        {
            "metadata": {},
            "cell_type": "code",
            "source": "SD[\"SEVERITYCODE\"].value_counts()",
            "execution_count": 3,
            "outputs": [
                {
                    "output_type": "execute_result",
                    "execution_count": 3,
                    "data": {
                        "text/plain": "1     133818\n2      57829\n2b      3058\n3        339\n0          2\nName: SEVERITYCODE, dtype: int64"
                    },
                    "metadata": {}
                }
            ]
        },
        {
            "metadata": {},
            "cell_type": "code",
            "source": "SD.WEATHER.unique()",
            "execution_count": 4,
            "outputs": [
                {
                    "output_type": "execute_result",
                    "execution_count": 4,
                    "data": {
                        "text/plain": "array(['Clear', 'Raining', 'Overcast', 'Unknown', 'Other', 'Snowing',\n       'Sleet/Hail/Freezing Rain', 'Fog/Smog/Smoke', 'Blowing Sand/Dirt',\n       'Severe Crosswind', 'Partly Cloudy'], dtype=object)"
                    },
                    "metadata": {}
                }
            ]
        },
        {
            "metadata": {},
            "cell_type": "code",
            "source": "SD[\"WEATHER\"].value_counts()",
            "execution_count": 5,
            "outputs": [
                {
                    "output_type": "execute_result",
                    "execution_count": 5,
                    "data": {
                        "text/plain": "Clear                       114788\nRaining                      34034\nOvercast                     28543\nUnknown                      15120\nSnowing                        919\nOther                          858\nFog/Smog/Smoke                 577\nSleet/Hail/Freezing Rain       116\nBlowing Sand/Dirt               55\nSevere Crosswind                26\nPartly Cloudy                   10\nName: WEATHER, dtype: int64"
                    },
                    "metadata": {}
                }
            ]
        },
        {
            "metadata": {},
            "cell_type": "code",
            "source": "# Drop any line items with a value of 'unknown' or 'other' in our independent variables as this will skew the data analysis.\n# Therefore, in the final model, it will be required that the user has information on the key independent variables in order for the model to be utilized.\nSD.drop(SD.index[SD['WEATHER'] == 'Unknown'], inplace = True)\nSD.drop(SD.index[SD['WEATHER'] == 'Other'], inplace = True)\n\n\nSD.WEATHER.unique()",
            "execution_count": 6,
            "outputs": [
                {
                    "output_type": "stream",
                    "text": "/opt/conda/envs/Python36/lib/python3.6/site-packages/pandas/core/frame.py:3940: SettingWithCopyWarning: \nA value is trying to be set on a copy of a slice from a DataFrame\n\nSee the caveats in the documentation: http://pandas.pydata.org/pandas-docs/stable/indexing.html#indexing-view-versus-copy\n  errors=errors)\n",
                    "name": "stderr"
                },
                {
                    "output_type": "execute_result",
                    "execution_count": 6,
                    "data": {
                        "text/plain": "array(['Clear', 'Raining', 'Overcast', 'Snowing',\n       'Sleet/Hail/Freezing Rain', 'Fog/Smog/Smoke', 'Blowing Sand/Dirt',\n       'Severe Crosswind', 'Partly Cloudy'], dtype=object)"
                    },
                    "metadata": {}
                }
            ]
        },
        {
            "metadata": {},
            "cell_type": "code",
            "source": "# Drop any line items with a value of 'unknown' or 'other' in our independent variables as this will skew the data analysis.\n# Therefore, in the final model, it will be required that the user has information on the key independent variables in order for the model to be utilized.SD.drop(SD.index[SD['ROADCOND'] == 'Unknown'], inplace = True)\nSD.drop(SD.index[SD['ROADCOND'] == 'Other'], inplace = True)\nSD.drop(SD.index[SD['ROADCOND'] == 'Unknown'], inplace = True)\n\nSD.ROADCOND.unique()",
            "execution_count": 7,
            "outputs": [
                {
                    "output_type": "execute_result",
                    "execution_count": 7,
                    "data": {
                        "text/plain": "array(['Dry', 'Wet', 'Ice', 'Snow/Slush', 'Standing Water',\n       'Sand/Mud/Dirt', 'Oil'], dtype=object)"
                    },
                    "metadata": {}
                }
            ]
        },
        {
            "metadata": {},
            "cell_type": "code",
            "source": "SD[\"ROADCOND\"].value_counts()",
            "execution_count": 8,
            "outputs": [
                {
                    "output_type": "execute_result",
                    "execution_count": 8,
                    "data": {
                        "text/plain": "Dry               127531\nWet                48203\nIce                 1136\nSnow/Slush           911\nStanding Water       112\nSand/Mud/Dirt         67\nOil                   60\nName: ROADCOND, dtype: int64"
                    },
                    "metadata": {}
                }
            ]
        },
        {
            "metadata": {},
            "cell_type": "code",
            "source": "# Drop any line items with a value of '0' (which indicates 'unknown') in our dependent variable as this line item will not assist with training the model.\n\nSD.SEVERITYCODE.unique()",
            "execution_count": 11,
            "outputs": [
                {
                    "output_type": "execute_result",
                    "execution_count": 11,
                    "data": {
                        "text/plain": "array(['1', '2', '2b', '3', '0'], dtype=object)"
                    },
                    "metadata": {}
                }
            ]
        },
        {
            "metadata": {},
            "cell_type": "markdown",
            "source": "To help us better understand the data, a bar graph was created to examine the types of collisions (those causing only property damage vs. those causing differing levels of injury) compared to the weather. "
        },
        {
            "metadata": {},
            "cell_type": "code",
            "source": "# Understanding data by looking at how many accidents cause property damage vs. injury and in what weather conditions\nimport seaborn as sns\nimport matplotlib.pyplot as plt\ndf_InjuryType= SD[['WEATHER', 'SEVERITYCODE']].copy()\ncodes = {'1': 'Property Damage', '2': 'Injury', '2b': 'Serious Injury', '3': 'fatality'}\ndf_InjuryType['Type of Collision'] = df_InjuryType['SEVERITYCODE'].replace(codes)\n\nax = sns.countplot(\n    data=df_InjuryType,\n    x='WEATHER',\n    hue='Type of Collision',\n    palette='Set2'\n)\n\nax.set_xticklabels(\n    ax.get_xticklabels(), \n    rotation=45\n)\n\nax.grid(False)\nax.set_title('Accident Severity by Weather Condition')\nax.set_xlabel('Weather Condition')\nax.set_ylabel('Number of Observations')",
            "execution_count": 12,
            "outputs": [
                {
                    "output_type": "execute_result",
                    "execution_count": 12,
                    "data": {
                        "text/plain": "Text(0, 0.5, 'Number of Observations')"
                    },
                    "metadata": {}
                },
                {
                    "output_type": "display_data",
                    "data": {
                        "text/plain": "<Figure size 432x288 with 1 Axes>",
                        "image/png": "[encoded data removed]"
                    },
                    "metadata": {
                        "needs_background": "light"
                    }
                }
            ]
        },
        {
            "metadata": {},
            "cell_type": "code",
            "source": "# Understanding data by looking at how many accidents cause property damage vs. injury and in what road conditions.\ndf_InjuryType= SD[['ROADCOND', 'SEVERITYCODE']].copy()\ncodes = {'1': 'Property Damage', '2': 'Injury', '2b': 'Serious Injury', '3': 'fatality'}\ndf_InjuryType['Type of Collision'] = df_InjuryType['SEVERITYCODE'].replace(codes)\n\nax = sns.countplot(\n    data=df_InjuryType,\n    x='ROADCOND',\n    hue='Type of Collision',\n    palette='Set2'\n)\n\nax.set_xticklabels(\n    ax.get_xticklabels(), \n    rotation=45\n)\n\nax.grid(False)\nax.set_title('Accident Severity by Road Condition')\nax.set_xlabel('Road Condition')\nax.set_ylabel('Number of Observations')\n",
            "execution_count": null,
            "outputs": []
        },
        {
            "metadata": {},
            "cell_type": "markdown",
            "source": "Based on the bar graph created above, it was noted that most of the accidents cause property damage rather than injury. In addition, a large majority of the accidents are actually occuring on clear weather days rather than the anticipated hypothesis of bad weather increasing the likelihood of accident occurence. This suggests that drivers may already be applying caution or avoiding the roads on bad weather days and/or are letting down their guard on clear weather days.\n\nFor further anaylsis, additional data preparation procedures were completed to change fields into numeric data as required by KNN an Decision Tree analysis."
        },
        {
            "metadata": {},
            "cell_type": "code",
            "source": "# Assign number values to the Weather and Road Condition columns according to severity of condition\n# Change the 'SEVERITYCODE' variable to a 1-4 scale\nweather_map = {'Clear': 0, 'Partly Cloudy': 1, 'Overcast': 2, 'Raining': 3, 'Fog/Smog/Smoke': 4, 'Blowing Sand/Dirt': 5, 'Sleet/Hail/Freezing Rain': 6, 'Snowing': 7, 'Severe Crosswind': 8}\nroad_map = {'Dry': 0, 'Wet': 1, 'Sand/Mud/Dirt': 2, 'Standing Water': 3, 'Snow/Slush': 4, 'Oil': 5, 'Ice': 6}\nseverity_map = {'1': 1, '2': 2, '2b': 3, '3': 4}\n\nSD_New = SD.replace({'WEATHER': weather_map, 'ROADCOND': road_map, 'SEVERITYCODE': severity_map})\nSD_New.head()",
            "execution_count": 43,
            "outputs": [
                {
                    "output_type": "execute_result",
                    "execution_count": 43,
                    "data": {
                        "text/plain": "   OBJECTID  WEATHER  SEVERITYCODE  ROADCOND\n0         1        0             1         0\n1         2        3             1         1\n2         3        0             2         0\n3         4        3             2         1\n4         5        0             2         6",
                        "text/html": "<div>\n<style scoped>\n    .dataframe tbody tr th:only-of-type {\n        vertical-align: middle;\n    }\n\n    .dataframe tbody tr th {\n        vertical-align: top;\n    }\n\n    .dataframe thead th {\n        text-align: right;\n    }\n</style>\n<table border=\"1\" class=\"dataframe\">\n  <thead>\n    <tr style=\"text-align: right;\">\n      <th></th>\n      <th>OBJECTID</th>\n      <th>WEATHER</th>\n      <th>SEVERITYCODE</th>\n      <th>ROADCOND</th>\n    </tr>\n  </thead>\n  <tbody>\n    <tr>\n      <th>0</th>\n      <td>1</td>\n      <td>0</td>\n      <td>1</td>\n      <td>0</td>\n    </tr>\n    <tr>\n      <th>1</th>\n      <td>2</td>\n      <td>3</td>\n      <td>1</td>\n      <td>1</td>\n    </tr>\n    <tr>\n      <th>2</th>\n      <td>3</td>\n      <td>0</td>\n      <td>2</td>\n      <td>0</td>\n    </tr>\n    <tr>\n      <th>3</th>\n      <td>4</td>\n      <td>3</td>\n      <td>2</td>\n      <td>1</td>\n    </tr>\n    <tr>\n      <th>4</th>\n      <td>5</td>\n      <td>0</td>\n      <td>2</td>\n      <td>6</td>\n    </tr>\n  </tbody>\n</table>\n</div>"
                    },
                    "metadata": {}
                }
            ]
        },
        {
            "metadata": {},
            "cell_type": "code",
            "source": "SD_New.info()",
            "execution_count": 44,
            "outputs": [
                {
                    "output_type": "stream",
                    "text": "<class 'pandas.core.frame.DataFrame'>\nInt64Index: 178020 entries, 0 to 221737\nData columns (total 4 columns):\nOBJECTID        178020 non-null int64\nWEATHER         178020 non-null int64\nSEVERITYCODE    178020 non-null int64\nROADCOND        178020 non-null int64\ndtypes: int64(4)\nmemory usage: 6.8 MB\n",
                    "name": "stdout"
                }
            ]
        },
        {
            "metadata": {},
            "cell_type": "code",
            "source": "SD_New.SEVERITYCODE.unique()\n",
            "execution_count": 45,
            "outputs": [
                {
                    "output_type": "execute_result",
                    "execution_count": 45,
                    "data": {
                        "text/plain": "array([1, 2, 3, 4, 0])"
                    },
                    "metadata": {}
                }
            ]
        },
        {
            "metadata": {},
            "cell_type": "code",
            "source": "SD_New[\"SEVERITYCODE\"].value_counts()",
            "execution_count": 46,
            "outputs": [
                {
                    "output_type": "execute_result",
                    "execution_count": 46,
                    "data": {
                        "text/plain": "1    117943\n2     56734\n3      3007\n4       334\n0         2\nName: SEVERITYCODE, dtype: int64"
                    },
                    "metadata": {}
                }
            ]
        },
        {
            "metadata": {},
            "cell_type": "code",
            "source": "df_InjuryType.head()\n",
            "execution_count": 47,
            "outputs": [
                {
                    "output_type": "execute_result",
                    "execution_count": 47,
                    "data": {
                        "text/plain": "   WEATHER SEVERITYCODE Type of Collision\n0    Clear            1   Property Damage\n1  Raining            1   Property Damage\n2    Clear            2            Injury\n3  Raining            2            Injury\n4    Clear            2            Injury",
                        "text/html": "<div>\n<style scoped>\n    .dataframe tbody tr th:only-of-type {\n        vertical-align: middle;\n    }\n\n    .dataframe tbody tr th {\n        vertical-align: top;\n    }\n\n    .dataframe thead th {\n        text-align: right;\n    }\n</style>\n<table border=\"1\" class=\"dataframe\">\n  <thead>\n    <tr style=\"text-align: right;\">\n      <th></th>\n      <th>WEATHER</th>\n      <th>SEVERITYCODE</th>\n      <th>Type of Collision</th>\n    </tr>\n  </thead>\n  <tbody>\n    <tr>\n      <th>0</th>\n      <td>Clear</td>\n      <td>1</td>\n      <td>Property Damage</td>\n    </tr>\n    <tr>\n      <th>1</th>\n      <td>Raining</td>\n      <td>1</td>\n      <td>Property Damage</td>\n    </tr>\n    <tr>\n      <th>2</th>\n      <td>Clear</td>\n      <td>2</td>\n      <td>Injury</td>\n    </tr>\n    <tr>\n      <th>3</th>\n      <td>Raining</td>\n      <td>2</td>\n      <td>Injury</td>\n    </tr>\n    <tr>\n      <th>4</th>\n      <td>Clear</td>\n      <td>2</td>\n      <td>Injury</td>\n    </tr>\n  </tbody>\n</table>\n</div>"
                    },
                    "metadata": {}
                }
            ]
        },
        {
            "metadata": {},
            "cell_type": "markdown",
            "source": "As the dataset was noted to be imbalanced, data balancing was completed to increase the number of accidents in the minority category (fatalities) and decrease the number of accidents in the najority categories (property damage and minor injuries).  "
        },
        {
            "metadata": {},
            "cell_type": "code",
            "source": "# Balancing the Dataset is required for proper anaysis\n# First, we will separate the dataset into one dataset for each accident severity level\n\nfrom sklearn.utils import resample\n\ndf_sev1 = SD_New[SD_New.SEVERITYCODE==1]\ndf_sev2 = SD_New[SD_New.SEVERITYCODE==2]\ndf_sev3 = SD_New[SD_New.SEVERITYCODE==3]\ndf_sev4 = SD_New[SD_New.SEVERITYCODE==4]\n\n# Second, we will resample the majority datasets of severity levels 1 and 2 to reduce the number of low severity accidents in our dataset\ndf_sev1_downsampled = resample(df_sev1, replace=False, n_samples=10000, random_state=123)   \n\ndf_sev2_downsampled = resample(df_sev2, \n                                 replace=False,      # sample without replacement\n                                 n_samples=3000,     # to match minority class\n                                 random_state=123)   # reproducible results\n\n# Third, we will resample the minority dataset of severity level 4 to increase the number of high severity accidents in our dataset\ndf_sev4_upsampled = resample(df_sev4, replace=True, n_samples=1000, random_state=123)\n\n# Next, we will combine the original severity 3 dataset with the downsampled severity 1 and 2 datasets and the upsampled severity 4 dataset\ndf_resampled = pd.concat([df_sev1_downsampled, df_sev2_downsampled, df_sev3, df_sev4_upsampled])\n\ndf_resampled[\"SEVERITYCODE\"].value_counts()",
            "execution_count": 48,
            "outputs": [
                {
                    "output_type": "execute_result",
                    "execution_count": 48,
                    "data": {
                        "text/plain": "1    10000\n3     3007\n2     3000\n4     1000\nName: SEVERITYCODE, dtype: int64"
                    },
                    "metadata": {}
                }
            ]
        },
        {
            "metadata": {},
            "cell_type": "markdown",
            "source": "Analysis then began using KNN and decision tree analysis to create models that could be trained and tested for accuracy."
        },
        {
            "metadata": {},
            "cell_type": "code",
            "source": "import matplotlib.pyplot as plt\nfrom scipy import stats\n\n#X = df_downsampled[['WEATHER', 'ROADCOND']]\n\npearson_coef, p_value = stats.pearsonr(df_resampled['ROADCOND'], df_resampled['SEVERITYCODE'])\nprint(\"The Pearson Correlation Coefficient is\", pearson_coef, \" with a P-value of P =\", p_value)  ",
            "execution_count": 49,
            "outputs": [
                {
                    "output_type": "stream",
                    "text": "The Pearson Correlation Coefficient is -0.0444215872058114  with a P-value of P = 6.8120536353822145e-09\n",
                    "name": "stdout"
                }
            ]
        },
        {
            "metadata": {},
            "cell_type": "code",
            "source": "df_resampled[[\"WEATHER\", \"ROADCOND\", \"SEVERITYCODE\"]].corr()",
            "execution_count": 50,
            "outputs": [
                {
                    "output_type": "execute_result",
                    "execution_count": 50,
                    "data": {
                        "text/plain": "               WEATHER  ROADCOND  SEVERITYCODE\nWEATHER       1.000000  0.585937     -0.024221\nROADCOND      0.585937  1.000000     -0.044422\nSEVERITYCODE -0.024221 -0.044422      1.000000",
                        "text/html": "<div>\n<style scoped>\n    .dataframe tbody tr th:only-of-type {\n        vertical-align: middle;\n    }\n\n    .dataframe tbody tr th {\n        vertical-align: top;\n    }\n\n    .dataframe thead th {\n        text-align: right;\n    }\n</style>\n<table border=\"1\" class=\"dataframe\">\n  <thead>\n    <tr style=\"text-align: right;\">\n      <th></th>\n      <th>WEATHER</th>\n      <th>ROADCOND</th>\n      <th>SEVERITYCODE</th>\n    </tr>\n  </thead>\n  <tbody>\n    <tr>\n      <th>WEATHER</th>\n      <td>1.000000</td>\n      <td>0.585937</td>\n      <td>-0.024221</td>\n    </tr>\n    <tr>\n      <th>ROADCOND</th>\n      <td>0.585937</td>\n      <td>1.000000</td>\n      <td>-0.044422</td>\n    </tr>\n    <tr>\n      <th>SEVERITYCODE</th>\n      <td>-0.024221</td>\n      <td>-0.044422</td>\n      <td>1.000000</td>\n    </tr>\n  </tbody>\n</table>\n</div>"
                    },
                    "metadata": {}
                }
            ]
        },
        {
            "metadata": {
                "scrolled": true
            },
            "cell_type": "code",
            "source": "# KNN analysis\nX = df_resampled[['WEATHER', 'ROADCOND']] .values  #.astype(float)\nX[0:5]\n\ny = df_resampled['SEVERITYCODE'].values\ny[0:5]\n    \n    \nfrom sklearn import preprocessing\nX = preprocessing.StandardScaler().fit(X).transform(X.astype(float))\nX[0:5]\n\nfrom sklearn.model_selection import train_test_split\nX_train, X_test, y_train, y_test = train_test_split( X, y, test_size=0.2, random_state=4)\nprint ('Train set:', X_train.shape,  y_train.shape)\nprint ('Test set:', X_test.shape,  y_test.shape)\n\nfrom sklearn.neighbors import KNeighborsClassifier\nk = 15\nknn = KNeighborsClassifier(n_neighbors = k).fit(X_train, y_train)\nknn\n\nyhat = knn.predict(X_test)\nyhat[0:5]\n\n# Determine the accuracy of the training and testing set using the KNN model\nfrom sklearn import metrics\nprint(\"Train set Accuracy: \", metrics.accuracy_score(y_train, knn.predict(X_train)))\nprint(\"Test set Accuracy: \", metrics.accuracy_score(y_test, yhat))",
            "execution_count": 66,
            "outputs": [
                {
                    "output_type": "stream",
                    "text": "/opt/conda/envs/Python36/lib/python3.6/site-packages/sklearn/utils/validation.py:595: DataConversionWarning: Data with input dtype int64 was converted to float64 by StandardScaler.\n  warnings.warn(msg, DataConversionWarning)\n",
                    "name": "stderr"
                },
                {
                    "output_type": "stream",
                    "text": "Train set: (13605, 2) (13605,)\nTest set: (3402, 2) (3402,)\nTrain set Accuracy:  0.5631018008085262\nTest set Accuracy:  0.5640799529688418\n",
                    "name": "stdout"
                }
            ]
        },
        {
            "metadata": {},
            "cell_type": "code",
            "source": "Ks = 20\nmean_acc = np.zeros((Ks-1))\nstd_acc = np.zeros((Ks-1))\nConfustionMx = [];\nfor n in range(1,Ks):\n    \n    #Train Model and Predict  \n    neigh = KNeighborsClassifier(n_neighbors = n).fit(X_train,y_train)\n    yhat=neigh.predict(X_test)\n    mean_acc[n-1] = metrics.accuracy_score(y_test, yhat)\n\n    \n    std_acc[n-1]=np.std(yhat==y_test)/np.sqrt(yhat.shape[0])\n\nmean_acc",
            "execution_count": 67,
            "outputs": [
                {
                    "output_type": "execute_result",
                    "execution_count": 67,
                    "data": {
                        "text/plain": "array([0.20458554, 0.33862434, 0.33862434, 0.33862434, 0.5893592 ,\n       0.31393298, 0.5643739 , 0.5643739 , 0.56407995, 0.56407995,\n       0.58877131, 0.56407995, 0.56407995, 0.56407995, 0.56407995,\n       0.56407995, 0.56407995, 0.56407995, 0.56407995])"
                    },
                    "metadata": {}
                }
            ]
        },
        {
            "metadata": {},
            "cell_type": "code",
            "source": "plt.plot(range(1,Ks),mean_acc,'g')\nplt.fill_between(range(1,Ks),mean_acc - 1 * std_acc,mean_acc + 1 * std_acc, alpha=0.10)\nplt.legend(('Accuracy ', '+/- 3xstd'))\nplt.ylabel('Accuracy ')\nplt.xlabel('Number of Nabors (K)')\nplt.tight_layout()\nplt.show()",
            "execution_count": 68,
            "outputs": [
                {
                    "output_type": "display_data",
                    "data": {
                        "text/plain": "<Figure size 432x288 with 1 Axes>",
                        "image/png": "[encoded data removed]"
                    },
                    "metadata": {
                        "needs_background": "light"
                    }
                }
            ]
        },
        {
            "metadata": {},
            "cell_type": "code",
            "source": "print( \"The best accuracy was with\", mean_acc.max(), \"with k=\", mean_acc.argmax()+1) ",
            "execution_count": 69,
            "outputs": [
                {
                    "output_type": "stream",
                    "text": "The best accuracy was with 0.5893592004703115 with k= 5\n",
                    "name": "stdout"
                }
            ]
        },
        {
            "metadata": {},
            "cell_type": "code",
            "source": "# Decision Tree Method\nfrom sklearn import tree\nfrom sklearn.model_selection import train_test_split\nfrom sklearn.tree import DecisionTreeClassifier\n\nX_trainset, X_testset, y_trainset, y_testset = train_test_split(X, y, test_size=0.3, random_state=3)\n\nprint (\"The X_trainset shape is:\", X_trainset.shape)\n\nprint (\"The y_trainset shape is:\", y_trainset.shape)\n",
            "execution_count": 52,
            "outputs": [
                {
                    "output_type": "stream",
                    "text": "The X_trainset shape is: (11904, 2)\nThe y_trainset shape is: (11904,)\n",
                    "name": "stdout"
                }
            ]
        },
        {
            "metadata": {},
            "cell_type": "code",
            "source": "print (\"The X_trainset shape is:\", X_testset.shape)\n\nprint (\"The X_trainset shape is:\", y_testset.shape)",
            "execution_count": 53,
            "outputs": [
                {
                    "output_type": "stream",
                    "text": "The X_trainset shape is: (5103, 2)\nThe X_trainset shape is: (5103,)\n",
                    "name": "stdout"
                }
            ]
        },
        {
            "metadata": {},
            "cell_type": "code",
            "source": "dt = DecisionTreeClassifier(criterion=\"entropy\", max_depth = 4)\ndt # it shows the default parameters",
            "execution_count": 54,
            "outputs": [
                {
                    "output_type": "execute_result",
                    "execution_count": 54,
                    "data": {
                        "text/plain": "DecisionTreeClassifier(class_weight=None, criterion='entropy', max_depth=4,\n            max_features=None, max_leaf_nodes=None,\n            min_impurity_decrease=0.0, min_impurity_split=None,\n            min_samples_leaf=1, min_samples_split=2,\n            min_weight_fraction_leaf=0.0, presort=False, random_state=None,\n            splitter='best')"
                    },
                    "metadata": {}
                }
            ]
        },
        {
            "metadata": {},
            "cell_type": "code",
            "source": "dt.fit(X_trainset,y_trainset)",
            "execution_count": 55,
            "outputs": [
                {
                    "output_type": "execute_result",
                    "execution_count": 55,
                    "data": {
                        "text/plain": "DecisionTreeClassifier(class_weight=None, criterion='entropy', max_depth=4,\n            max_features=None, max_leaf_nodes=None,\n            min_impurity_decrease=0.0, min_impurity_split=None,\n            min_samples_leaf=1, min_samples_split=2,\n            min_weight_fraction_leaf=0.0, presort=False, random_state=None,\n            splitter='best')"
                    },
                    "metadata": {}
                }
            ]
        },
        {
            "metadata": {},
            "cell_type": "code",
            "source": "predTree = dt.predict(X_testset)",
            "execution_count": 56,
            "outputs": []
        },
        {
            "metadata": {},
            "cell_type": "code",
            "source": "print (predTree [0:5])\nprint (y_testset [0:5])",
            "execution_count": 57,
            "outputs": [
                {
                    "output_type": "stream",
                    "text": "[1 1 1 1 1]\n[1 1 1 3 1]\n",
                    "name": "stdout"
                }
            ]
        },
        {
            "metadata": {},
            "cell_type": "code",
            "source": "# Determine the accuracy of the training and testing set using the Decision Tree model\nfrom sklearn import metrics\nimport matplotlib.pyplot as plt\nprint(\"DecisionTrees's Accuracy: \", metrics.accuracy_score(y_testset, predTree))",
            "execution_count": 70,
            "outputs": [
                {
                    "output_type": "stream",
                    "text": "DecisionTrees's Accuracy:  0.5853419557123261\n",
                    "name": "stdout"
                }
            ]
        },
        {
            "metadata": {},
            "cell_type": "markdown",
            "source": "## Conclusion\n\nBased on the dataset used and our evaluation of the model accuracy and precision of the model, it was determined that the KNN model created was the most accurate way to classify severity of accidents based on weather and road conditions. With an accuracy of 58.9%, the particular weather and road conditions only have somewhat of an impact on whether or not travel could result in property damage or variuos levels of injury. In addition, based on analysis of the data, the Police Department may be interested to learn that the majority of accidents already occur on clear weather days. This suggests that drivers may already be applying caution or avoiding the roads on bad weather/road condition days and/or are letting down their guard on clear weather days. This may be useful in the type of public messaging they would like to pursue to reduce accidents.\n\nFurther alalysis that could be undertaken with this data if the Police Department would like to investigate additional aspects for deployment of resources to accidents beyond just notification of public for precautionary measures."
        }
    ],
    "metadata": {
        "kernelspec": {
            "name": "python3",
            "display_name": "Python 3.6",
            "language": "python"
        },
        "language_info": {
            "name": "python",
            "version": "3.6.9",
            "mimetype": "text/x-python",
            "codemirror_mode": {
                "name": "ipython",
                "version": 3
            },
            "pygments_lexer": "ipython3",
            "nbconvert_exporter": "python",
            "file_extension": ".py"
        }
    },
    "nbformat": 4,
    "nbformat_minor": 1
}